{
 "cells": [
  {
   "cell_type": "code",
   "execution_count": 7,
   "metadata": {},
   "outputs": [],
   "source": [
    "import numpy as np\n",
    "import pandas as pd \n",
    "import os\n",
    "import glob\n",
    "import scipy"
   ]
  },
  {
   "cell_type": "markdown",
   "metadata": {},
   "source": [
    "# DATA folder"
   ]
  },
  {
   "cell_type": "code",
   "execution_count": 3,
   "metadata": {},
   "outputs": [
    {
     "name": "stdout",
     "output_type": "stream",
     "text": [
      "/Users/sophia/Library/Mobile Documents/com~apple~CloudDocs/Personal Project/HPE_online/pretrain/ML dataset/mpi_inf_3dhp/S5/Seq1/annot.mat\n",
      "/Users/sophia/Library/Mobile Documents/com~apple~CloudDocs/Personal Project/HPE_online/pretrain/ML dataset/mpi_inf_3dhp/S5/Seq2/annot.mat\n",
      "/Users/sophia/Library/Mobile Documents/com~apple~CloudDocs/Personal Project/HPE_online/pretrain/ML dataset/mpi_inf_3dhp/S2/Seq1/annot.mat\n",
      "/Users/sophia/Library/Mobile Documents/com~apple~CloudDocs/Personal Project/HPE_online/pretrain/ML dataset/mpi_inf_3dhp/S2/Seq2/annot.mat\n",
      "/Users/sophia/Library/Mobile Documents/com~apple~CloudDocs/Personal Project/HPE_online/pretrain/ML dataset/mpi_inf_3dhp/S3/Seq1/annot.mat\n",
      "/Users/sophia/Library/Mobile Documents/com~apple~CloudDocs/Personal Project/HPE_online/pretrain/ML dataset/mpi_inf_3dhp/S3/Seq2/annot.mat\n",
      "/Users/sophia/Library/Mobile Documents/com~apple~CloudDocs/Personal Project/HPE_online/pretrain/ML dataset/mpi_inf_3dhp/S4/Seq1/annot.mat\n",
      "/Users/sophia/Library/Mobile Documents/com~apple~CloudDocs/Personal Project/HPE_online/pretrain/ML dataset/mpi_inf_3dhp/S4/Seq2/annot.mat\n",
      "/Users/sophia/Library/Mobile Documents/com~apple~CloudDocs/Personal Project/HPE_online/pretrain/ML dataset/mpi_inf_3dhp/S8/Seq1/annot.mat\n",
      "/Users/sophia/Library/Mobile Documents/com~apple~CloudDocs/Personal Project/HPE_online/pretrain/ML dataset/mpi_inf_3dhp/S8/Seq2/annot.mat\n",
      "/Users/sophia/Library/Mobile Documents/com~apple~CloudDocs/Personal Project/HPE_online/pretrain/ML dataset/mpi_inf_3dhp/S1/Seq1/annot.mat\n",
      "/Users/sophia/Library/Mobile Documents/com~apple~CloudDocs/Personal Project/HPE_online/pretrain/ML dataset/mpi_inf_3dhp/S1/Seq2/annot.mat\n",
      "/Users/sophia/Library/Mobile Documents/com~apple~CloudDocs/Personal Project/HPE_online/pretrain/ML dataset/mpi_inf_3dhp/S6/Seq1/annot.mat\n",
      "/Users/sophia/Library/Mobile Documents/com~apple~CloudDocs/Personal Project/HPE_online/pretrain/ML dataset/mpi_inf_3dhp/S6/Seq2/annot.mat\n",
      "/Users/sophia/Library/Mobile Documents/com~apple~CloudDocs/Personal Project/HPE_online/pretrain/ML dataset/mpi_inf_3dhp/S7/Seq1/annot.mat\n",
      "/Users/sophia/Library/Mobile Documents/com~apple~CloudDocs/Personal Project/HPE_online/pretrain/ML dataset/mpi_inf_3dhp/S7/Seq2/annot.mat\n"
     ]
    }
   ],
   "source": [
    "dataset_folder = \"/Users/sophia/Library/Mobile Documents/com~apple~CloudDocs/Personal Project/HPE_online/pretrain/ML dataset\"\n",
    "files = glob.glob(os.path.join(dataset_folder, 'mpi_inf_3dhp/**/*.mat'), recursive=True)\n",
    "for file in files:\n",
    "    print(file)"
   ]
  },
  {
   "cell_type": "code",
   "execution_count": 16,
   "metadata": {},
   "outputs": [
    {
     "name": "stdout",
     "output_type": "stream",
     "text": [
      "Successfully loaded MATLAB file: annot.mat\n",
      "Available variables: ['annot2', 'annot3', 'cameras', 'frames', 'univ_annot3']\n",
      "\n",
      "Exploring MATLAB file structure:\n",
      "Variable: annot2, Type: <class 'numpy.ndarray'>, Shape: (14, 1), Dtype: object\n",
      "<class 'numpy.ndarray'> (12820, 56)\n",
      "Variable: annot3, Type: <class 'numpy.ndarray'>, Shape: (14, 1), Dtype: object\n",
      "<class 'numpy.ndarray'> (12820, 84)\n",
      "Variable: cameras, Type: <class 'numpy.ndarray'>, Shape: (1, 14), Dtype: uint8\n",
      "<class 'numpy.uint8'> ()\n",
      "[[ 0  1  2  3  4  5  6  7  8  9 10 11 12 13]]\n",
      "Variable: frames, Type: <class 'numpy.ndarray'>, Shape: (12820, 1), Dtype: uint16\n",
      "<class 'numpy.uint16'> ()\n",
      "[[0]\n",
      " [1]\n",
      " [2]\n",
      " [3]\n",
      " [4]\n",
      " [5]\n",
      " [6]\n",
      " [7]\n",
      " [8]\n",
      " [9]]\n",
      "Variable: univ_annot3, Type: <class 'numpy.ndarray'>, Shape: (14, 1), Dtype: object\n",
      "<class 'numpy.ndarray'> (12820, 84)\n"
     ]
    }
   ],
   "source": [
    "import numpy as np\n",
    "import os\n",
    "from scipy import io as sio  # For MATLAB file loading\n",
    "\n",
    "# Define paths to MATLAB files\n",
    "matlab_data_file = os.path.join(files[0])  # Update with your actual file path\n",
    "\n",
    "# Load MATLAB data\n",
    "def load_matlab_file(file_path):\n",
    "    \"\"\"\n",
    "    Load data from a MATLAB .mat file\n",
    "    \n",
    "    Parameters:\n",
    "    - file_path: Path to the MATLAB .mat file\n",
    "    \n",
    "    Returns:\n",
    "    - Dictionary containing the MATLAB data\n",
    "    \"\"\"\n",
    "    try:\n",
    "        mat_data = sio.loadmat(file_path)\n",
    "        print(f\"Successfully loaded MATLAB file: {os.path.basename(file_path)}\")\n",
    "        \n",
    "        # Remove metadata variables that MATLAB uses (start with '__')\n",
    "        keys_to_remove = [key for key in mat_data.keys() if key.startswith('__')]\n",
    "        for key in keys_to_remove:\n",
    "            del mat_data[key]\n",
    "            \n",
    "        print(f\"Available variables: {list(mat_data.keys())}\")\n",
    "        return mat_data\n",
    "    \n",
    "    except Exception as e:\n",
    "        print(f\"Error loading MATLAB file: {e}\")\n",
    "        return None\n",
    "\n",
    "# Explore the structure of a MATLAB file\n",
    "def explore_matlab_structure(mat_data):\n",
    "    \"\"\"\n",
    "    Explore and print the structure of data loaded from a MATLAB file\n",
    "    \n",
    "    Parameters:\n",
    "    - mat_data: Dictionary containing MATLAB data\n",
    "    \"\"\"\n",
    "    if not mat_data:\n",
    "        return\n",
    "        \n",
    "    print(\"\\nExploring MATLAB file structure:\")\n",
    "    for key, value in mat_data.items():\n",
    "        if isinstance(value, np.ndarray):\n",
    "            print(f\"Variable: {key}, Type: {type(value)}, Shape: {value.shape}, Dtype: {value.dtype}\")\n",
    "            print(type(value[0][0]), value[0][0].shape)\n",
    "            if key == \"cameras\":\n",
    "                print(value)\n",
    "            elif key == \"frames\":\n",
    "                print(value[:10])\n",
    "            # For structured arrays, show field names\n",
    "            if value.dtype.names:\n",
    "                print(f\"  Structure fields: {value.dtype.names}\")\n",
    "                \n",
    "            # Show a small sample for small arrays\n",
    "            if value.size < 10 and value.dtype.names is None:\n",
    "                print(f\"  Values: {value}\")\n",
    "        else:\n",
    "            print(f\"Variable: {key}, Type: {type(value)}\")\n",
    "\n",
    "# Example usage:\n",
    "mat_data = load_matlab_file(matlab_data_file)\n",
    "if mat_data:\n",
    "    explore_matlab_structure(mat_data)\n",
    "    \n"
   ]
  },
  {
   "cell_type": "code",
   "execution_count": null,
   "metadata": {},
   "outputs": [],
   "source": []
  }
 ],
 "metadata": {
  "kernelspec": {
   "display_name": ".venv",
   "language": "python",
   "name": "python3"
  },
  "language_info": {
   "codemirror_mode": {
    "name": "ipython",
    "version": 3
   },
   "file_extension": ".py",
   "mimetype": "text/x-python",
   "name": "python",
   "nbconvert_exporter": "python",
   "pygments_lexer": "ipython3",
   "version": "3.12.7"
  }
 },
 "nbformat": 4,
 "nbformat_minor": 2
}
